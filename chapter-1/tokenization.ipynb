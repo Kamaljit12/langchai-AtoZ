{
 "cells": [
  {
   "cell_type": "markdown",
   "id": "ad3ae79a",
   "metadata": {},
   "source": [
    "### Tokenizer"
   ]
  },
  {
   "cell_type": "code",
   "execution_count": 11,
   "id": "236cb5db",
   "metadata": {},
   "outputs": [],
   "source": [
    "from transformers import AutoTokenizer"
   ]
  },
  {
   "cell_type": "code",
   "execution_count": 12,
   "id": "241abf3f",
   "metadata": {},
   "outputs": [],
   "source": [
    "model_name = \"meta-llama/Meta-Llama-3-8B\"\n",
    "# load a pretrained tokernizer\n",
    "tokenizer = AutoTokenizer.from_pretrained(\"bert-base-uncased\")"
   ]
  },
  {
   "cell_type": "code",
   "execution_count": 13,
   "id": "8000a332",
   "metadata": {},
   "outputs": [],
   "source": [
    "# tokenize a text \n",
    "text = \"The quick brown fox jumps over the lazy dog!\"\n",
    "encode_text = tokenizer(text)"
   ]
  },
  {
   "cell_type": "code",
   "execution_count": 14,
   "id": "a962a533",
   "metadata": {},
   "outputs": [
    {
     "name": "stdout",
     "output_type": "stream",
     "text": [
      "{'input_ids': [101, 1996, 4248, 2829, 4419, 14523, 2058, 1996, 13971, 3899, 999, 102], 'token_type_ids': [0, 0, 0, 0, 0, 0, 0, 0, 0, 0, 0, 0], 'attention_mask': [1, 1, 1, 1, 1, 1, 1, 1, 1, 1, 1, 1]}\n"
     ]
    }
   ],
   "source": [
    "print(encode_text)"
   ]
  },
  {
   "cell_type": "code",
   "execution_count": 15,
   "id": "3aee216a",
   "metadata": {},
   "outputs": [
    {
     "name": "stdout",
     "output_type": "stream",
     "text": [
      "[CLS] the quick brown fox jumps over the lazy dog! [SEP]\n",
      "[101, 1996, 4248, 2829, 4419, 14523, 2058, 1996, 13971, 3899, 999, 102]\n",
      "[CLS] the quick brown fox jumps over the lazy dog ! [SEP]\n"
     ]
    }
   ],
   "source": [
    "print(tokenizer.decode(encode_text['input_ids']))\n",
    "print(encode_text['input_ids'])\n",
    "print(\" \".join([tokenizer.decode(t) for t in encode_text['input_ids']]))"
   ]
  }
 ],
 "metadata": {
  "kernelspec": {
   "display_name": ".venv",
   "language": "python",
   "name": "python3"
  },
  "language_info": {
   "codemirror_mode": {
    "name": "ipython",
    "version": 3
   },
   "file_extension": ".py",
   "mimetype": "text/x-python",
   "name": "python",
   "nbconvert_exporter": "python",
   "pygments_lexer": "ipython3",
   "version": "3.12.1"
  }
 },
 "nbformat": 4,
 "nbformat_minor": 5
}
