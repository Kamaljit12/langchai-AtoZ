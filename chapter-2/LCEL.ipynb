{
 "cells": [
  {
   "cell_type": "markdown",
   "id": "3776f190",
   "metadata": {},
   "source": [
    "### LCEL"
   ]
  },
  {
   "cell_type": "code",
   "execution_count": 2,
   "id": "4350a23c",
   "metadata": {},
   "outputs": [],
   "source": [
    "import sys\n",
    "import os"
   ]
  },
  {
   "cell_type": "markdown",
   "id": "8b27d7cd",
   "metadata": {},
   "source": [
    "#### LangChain Common Expression Language (LCEL)"
   ]
  },
  {
   "cell_type": "code",
   "execution_count": 5,
   "id": "75a73c59",
   "metadata": {},
   "outputs": [],
   "source": [
    "from langchain_groq import ChatGroq\n",
    "import os\n",
    "from dotenv import load_dotenv\n",
    "load_dotenv()\n",
    "os.environ['GROQ_API_KEY'] = os.getenv(\"GROQ_API_KEY\")\n",
    "\n",
    "llm = ChatGroq(model=\"llama-3.1-8b-instant\")"
   ]
  },
  {
   "cell_type": "code",
   "execution_count": 6,
   "id": "9accae4f",
   "metadata": {},
   "outputs": [
    {
     "name": "stdout",
     "output_type": "stream",
     "text": [
      "Why do programmers prefer dark mode?\n",
      "\n",
      "Because light attracts bugs.\n"
     ]
    }
   ],
   "source": [
    "from langchain_core.prompts import PromptTemplate\n",
    "from langchain_core.output_parsers import StrOutputParser\n",
    "\n",
    "# Create components\n",
    "prompt = PromptTemplate.from_template(\"Tell me a joke about {topic}\")\n",
    "output_parser = StrOutputParser()\n",
    "\n",
    "# Chain them together using LCEL\n",
    "chain = prompt | llm | output_parser\n",
    "\n",
    "# Use the chain\n",
    "result = chain.invoke({\"topic\": \"programming\"})\n",
    "print(result)"
   ]
  },
  {
   "cell_type": "code",
   "execution_count": 8,
   "id": "18bca163",
   "metadata": {},
   "outputs": [
    {
     "name": "stdout",
     "output_type": "stream",
     "text": [
      "The mood of this story is predominantly peaceful, calming, and nostalgic. The author masterfully crafts a serene atmosphere, using the rain as a backdrop to create a soothing and comforting ambiance. The use of sensory details, such as the \"deep, foreboding grey\" sky, the \"soothing rhythm\" of the rain, and the \"comforting scent\" of the tea, helps to immerse the reader in the tranquil atmosphere.\n",
      "\n",
      "The narrative also has a sentimental and melancholic undertone, as Emily reflects on her childhood and lost loved ones. However, this sadness is not portrayed as a source of distress, but rather as a bittersweet memory that brings a sense of nostalgia and connection to her past.\n",
      "\n",
      "The story also has a gentle, lulling quality, as Emily's thoughts and actions become increasingly relaxed and sleepy. The use of the rain as a \"gentle lullaby\" and a \"peaceful slumber\" helps to create a sense of calm and serenity.\n",
      "\n",
      "Overall, the mood of the story is one of quiet contemplation, introspection, and appreciation for the simple pleasures in life. The author invites the reader to slow down, relax, and savor the beauty of a rainy day, and to find comfort in the familiar and the nostalgic.\n",
      "\n",
      "The themes of nostalgia, simplicity, and appreciation for life's quiet moments are woven throughout the narrative, creating a sense of depth and meaning. The story is a gentle reminder that even in the midst of everyday life, we can find beauty and peace in the simple things, and that sometimes, it's the slow and quiet moments that are the most precious.\n"
     ]
    }
   ],
   "source": [
    "chat = ChatGroq(model=\"llama-3.1-8b-instant\")\n",
    "\n",
    "# First chain generates a story\n",
    "story_prompt = PromptTemplate.from_template(\"Write a short story about {topic}\")\n",
    "story_chain = story_prompt | chat | StrOutputParser()\n",
    "\n",
    "# Second chain analyzes the story\n",
    "analysis_prompt = PromptTemplate.from_template(\"Analyze the following story's mood:\\n{story}\")\n",
    "analysis_chain = analysis_prompt | chat | StrOutputParser()\n",
    "\n",
    "output_prompt = PromptTemplate.from_template(\n",
    "    \"Here's the story: \\n{story}\\n\\nHere's the mood: \\n{mood}\"\n",
    ")\n",
    "# Combine chains\n",
    "story_with_analysis = story_chain | analysis_chain\n",
    "\n",
    "# Run the combined chain\n",
    "result = story_with_analysis.invoke({\"topic\": \"a rainy day\"})\n",
    "print(result)"
   ]
  }
 ],
 "metadata": {
  "kernelspec": {
   "display_name": ".venv",
   "language": "python",
   "name": "python3"
  },
  "language_info": {
   "codemirror_mode": {
    "name": "ipython",
    "version": 3
   },
   "file_extension": ".py",
   "mimetype": "text/x-python",
   "name": "python",
   "nbconvert_exporter": "python",
   "pygments_lexer": "ipython3",
   "version": "3.13.5"
  }
 },
 "nbformat": 4,
 "nbformat_minor": 5
}
