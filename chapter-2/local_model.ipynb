{
 "cells": [
  {
   "cell_type": "markdown",
   "id": "0d4258b2",
   "metadata": {},
   "source": [
    "#### Ollama"
   ]
  },
  {
   "cell_type": "code",
   "execution_count": 2,
   "id": "8193bb4f",
   "metadata": {},
   "outputs": [],
   "source": [
    "from langchain_ollama import ChatOllama"
   ]
  },
  {
   "cell_type": "code",
   "execution_count": 5,
   "id": "4c223fe8",
   "metadata": {},
   "outputs": [],
   "source": [
    "chat = ChatOllama(\n",
    "    model = \"gemma3:4b\",\n",
    "    temperature=0\n",
    ")\n",
    "\n",
    "messages = [\n",
    "    (\n",
    "        \"system\",\n",
    "        \"You are a helpful assistant.\",\n",
    "    ),\n",
    "    (\"human\", \"What is the capital of indai?\"),\n",
    "]"
   ]
  },
  {
   "cell_type": "code",
   "execution_count": 6,
   "id": "338e486c",
   "metadata": {},
   "outputs": [
    {
     "name": "stdout",
     "output_type": "stream",
     "text": [
      "The capital of India is **New Delhi**. \n",
      "\n",
      "It’s actually a planned city, created in 1911 as a replacement for Calcutta (now Kolkata) as the capital. 😊 \n",
      "\n",
      "Do you want to know anything more about New Delhi or India in general?\n"
     ]
    }
   ],
   "source": [
    "response = chat.invoke(messages)\n",
    "print(response.content)"
   ]
  },
  {
   "cell_type": "markdown",
   "id": "760143ad",
   "metadata": {},
   "source": [
    "#### HuggingFace"
   ]
  },
  {
   "cell_type": "code",
   "execution_count": 1,
   "id": "3732b66b",
   "metadata": {},
   "outputs": [],
   "source": [
    "from langchain_core.messages import SystemMessage, HumanMessage\n",
    "from langchain_huggingface import ChatHuggingFace, HuggingFacePipeline"
   ]
  },
  {
   "cell_type": "code",
   "execution_count": 4,
   "id": "ca904015",
   "metadata": {},
   "outputs": [],
   "source": [
    "# Create a pipeline with a small model:\n",
    "# llm = HuggingFacePipeline.from_model_id(\n",
    "#     model_id=\"TinyLlama/TinyLlama-1.1B-Chat-v1.0\",\n",
    "#     task=\"text-generation\",\n",
    "#     pipeline_kwargs=dict(\n",
    "#         max_new_tokens=512,\n",
    "#         do_sample=False,\n",
    "#         repetition_penalty=1.03,\n",
    "#     ),\n",
    "# )"
   ]
  }
 ],
 "metadata": {
  "kernelspec": {
   "display_name": ".venv",
   "language": "python",
   "name": "python3"
  },
  "language_info": {
   "codemirror_mode": {
    "name": "ipython",
    "version": 3
   },
   "file_extension": ".py",
   "mimetype": "text/x-python",
   "name": "python",
   "nbconvert_exporter": "python",
   "pygments_lexer": "ipython3",
   "version": "3.13.5"
  }
 },
 "nbformat": 4,
 "nbformat_minor": 5
}
