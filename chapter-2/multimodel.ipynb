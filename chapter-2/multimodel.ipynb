{
 "cells": [
  {
   "cell_type": "markdown",
   "id": "6faffb01",
   "metadata": {},
   "source": [
    "#### DALLE"
   ]
  },
  {
   "cell_type": "code",
   "execution_count": 1,
   "id": "f06badc2",
   "metadata": {},
   "outputs": [],
   "source": [
    "import os\n",
    "import sys"
   ]
  },
  {
   "cell_type": "code",
   "execution_count": 7,
   "id": "27c402e9",
   "metadata": {},
   "outputs": [],
   "source": [
    "from langchain_community.utilities.dalle_image_generator import DallEAPIWrapper\n",
    "\n",
    "# dalle = DallEAPIWrapper(\n",
    "#    model=\"dall-e-3\",  # Options: \"dall-e-2\" (default) or \"dall-e-3\"\n",
    "#    size=\"1024x1024\",       # Image dimensions\n",
    "#     quality=\"standard\",     # \"standard\" or \"hd\" for DALL-E 3\n",
    "#     n=1                     # Number of images to generate (only for DALL-E 2)\n",
    "# )"
   ]
  },
  {
   "cell_type": "code",
   "execution_count": null,
   "id": "c48f32ba",
   "metadata": {},
   "outputs": [],
   "source": []
  }
 ],
 "metadata": {
  "kernelspec": {
   "display_name": ".venv",
   "language": "python",
   "name": "python3"
  },
  "language_info": {
   "codemirror_mode": {
    "name": "ipython",
    "version": 3
   },
   "file_extension": ".py",
   "mimetype": "text/x-python",
   "name": "python",
   "nbconvert_exporter": "python",
   "pygments_lexer": "ipython3",
   "version": "3.13.5"
  }
 },
 "nbformat": 4,
 "nbformat_minor": 5
}
