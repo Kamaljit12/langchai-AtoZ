{
 "cells": [
  {
   "cell_type": "markdown",
   "id": "a2addf71",
   "metadata": {},
   "source": [
    "#### Working with prompts"
   ]
  },
  {
   "cell_type": "code",
   "execution_count": 1,
   "id": "1ad59eea",
   "metadata": {},
   "outputs": [
    {
     "data": {
      "text/plain": [
       "True"
      ]
     },
     "execution_count": 1,
     "metadata": {},
     "output_type": "execute_result"
    }
   ],
   "source": [
    "from langchain_core.prompts import PromptTemplate\n",
    "from langchain_groq import ChatGroq\n",
    "from langchain_core.output_parsers import StrOutputParser\n",
    "from dotenv import load_dotenv\n",
    "import os\n",
    "load_dotenv()"
   ]
  },
  {
   "cell_type": "code",
   "execution_count": 10,
   "id": "a3ea059d",
   "metadata": {},
   "outputs": [],
   "source": [
    "os.environ['GROQ_API_KEY'] = os.getenv(\"GROQ_API_KEY\")\n",
    "llm = ChatGroq(model=\"qwen/qwen3-32b\")"
   ]
  },
  {
   "cell_type": "code",
   "execution_count": 11,
   "id": "2aac794b",
   "metadata": {},
   "outputs": [],
   "source": [
    "string_parser = StrOutputParser()\n",
    "\n",
    "# first chain to generate the story\n",
    "story_prompt = PromptTemplate.from_template(\"Write a short story about {topic}\")\n",
    "story_chain = story_prompt | llm |string_parser\n",
    "\n",
    "# second chain to analyze the story\n",
    "analyze_prompt = PromptTemplate.from_template(\"Analyze the following story's mood:\\n {story}\")\n",
    "analyze_chain = analyze_prompt | llm | string_parser\n",
    "\n",
    "# combine chain\n",
    "\n",
    "story_with_analysis = story_chain | analyze_chain\n"
   ]
  },
  {
   "cell_type": "code",
   "execution_count": 12,
   "id": "6aa4fd13",
   "metadata": {},
   "outputs": [],
   "source": [
    "response = story_with_analysis.invoke({\"topic\": \"a raindy day\"})"
   ]
  },
  {
   "cell_type": "code",
   "execution_count": 13,
   "id": "81716569",
   "metadata": {},
   "outputs": [
    {
     "name": "stdout",
     "output_type": "stream",
     "text": [
      "<think>\n",
      "Okay, let's see. The user asked for a story with a rainy day theme, focusing on mood. I need to analyze the mood of the story I just wrote. Let me start by reading through the story again to get a sense.\n",
      "\n",
      "The story starts with Alex in a melancholic state, mirroring the rain. The rain is described as relentless, the world gray, and Alex feeling lonely. The café scene brings some warmth but also initial isolation. Then the older woman enters, creating a shift. The mood transitions from loneliness to connection and hope. The ending has Alex stepping back into the rain but with a smile, suggesting renewed hope.\n",
      "\n",
      "So the mood starts with melancholy and moves to hope. The rain is a metaphor for Alex's emotions. The interaction with the woman introduces a sense of connection. The use of sensory details like the smell of coffee and the sound of rain helps set the mood. The umbrella left behind as a gift symbolizes the lingering effect of the connection. The overall mood is a journey from sadness to cautious optimism. Need to make sure the analysis captures this transition and the elements that contribute to each phase.\n",
      "</think>\n",
      "\n",
      "**Mood Analysis of \"The Rhythm of Rain\":**\n",
      "\n",
      "The story's mood evolves through a deliberate arc, shifting from **melancholy** to **hopeful serenity**, anchored by the interplay of setting, symbolism, and character interaction.\n",
      "\n",
      "1. **Opening Melancholy (Gloomy Solitude):**  \n",
      "   - The rain is portrayed as oppressive (\"relentless sheets,\" \"gray watercolor\"), mirroring Alex’s emotional state.  \n",
      "   - Sensory details (drumming rain, a soaked coat) amplify isolation, while the absence of connection (\"weeks since the last voice on the phone\") deepens the sense of desolation.  \n",
      "\n",
      "2. **Transition Through Intimacy (Warmth Amidst Cold):**  \n",
      "   - The café introduces contrast: warmth (*coffee, cinnamon, quilt-like comfort*) versus the cold outside. Yet, Alex’s internal spiraling (\"fingers tracing the cup\") hints at unresolved loneliness.  \n",
      "   - The stranger’s arrival disrupts this stagnation. Her presence—marked by gentle dialogue and shared stories—creates a **softened atmosphere**, symbolized by the \"softer\" rain and \"thinned\" gray skies.  \n",
      "\n",
      "3. **Climactic Hope (Connection as Anchor):**  \n",
      "   - The older woman’s anecdotes and the symbolic gift of the umbrella (a \"forgetful gesture\" or deliberate kindness) reframe the rain as a bridge between isolated souls.  \n",
      "   - Alex’s final smile and the image of a \"bridge connecting lonely islands\" evoke **cautious optimism**, suggesting that solitude need not be permanent.  \n",
      "\n",
      "4. **Symbolic Resonance (Rain as Transformation):**  \n",
      "   - The rain, initially a metaphor for despair, becomes a backdrop to renewal. Its persistence mirrors life’s ongoing struggles, but Alex’s embrace of the umbrella signals resilience and openness to connection.  \n",
      "\n",
      "**Overall Mood:** A journey from somber introspection to quiet hope, where the storm’s rhythm becomes a soundtrack to healing. The mood is tender, introspective, and ultimately uplifting, emphasizing that fleeting connections can alchemize loneliness into light.\n"
     ]
    }
   ],
   "source": [
    "print(response)"
   ]
  },
  {
   "cell_type": "markdown",
   "id": "69bcec32",
   "metadata": {},
   "source": [
    "### LLM with prompt"
   ]
  },
  {
   "cell_type": "code",
   "execution_count": 22,
   "id": "9a16300a",
   "metadata": {},
   "outputs": [
    {
     "data": {
      "text/plain": [
       "'summarize this text in one sentence:\\n            \\nOnce there was a curious computer that learned from data all day long.\\nIt started predicting the weather and recommending new music for everyone.\\nSoon, it helped doctors find diseases and made cars drive themselves safely.\\nEven online shops used it to suggest the perfect product for each user.\\nWith every new challenge, machine learning grew smarter, making life easier and more fun.\\n            '"
      ]
     },
     "execution_count": 22,
     "metadata": {},
     "output_type": "execute_result"
    }
   ],
   "source": [
    "llm = ChatGroq(model=\"llama-3.1-8b-instant\")\n",
    "\n",
    "template = \"\"\"summarize this text in one sentence:\n",
    "            {text}\n",
    "            \"\"\"\n",
    "\n",
    "\n",
    "prompt = PromptTemplate.from_template(template=template)\n",
    "\n",
    "text = \"\"\"\n",
    "Once there was a curious computer that learned from data all day long.\n",
    "It started predicting the weather and recommending new music for everyone.\n",
    "Soon, it helped doctors find diseases and made cars drive themselves safely.\n",
    "Even online shops used it to suggest the perfect product for each user.\n",
    "With every new challenge, machine learning grew smarter, making life easier and more fun.\"\"\"\n",
    "\n",
    "formated_template = prompt.format(text=text)\n",
    "formated_template"
   ]
  },
  {
   "cell_type": "code",
   "execution_count": 23,
   "id": "0c8267d2",
   "metadata": {},
   "outputs": [],
   "source": [
    "response = llm.invoke(formated_template)"
   ]
  },
  {
   "cell_type": "code",
   "execution_count": 24,
   "id": "b720ddf4",
   "metadata": {},
   "outputs": [
    {
     "name": "stdout",
     "output_type": "stream",
     "text": [
      "A curious computer used machine learning to help people in various ways, such as predicting the weather, recommending music and products, and even assisting in medical diagnosis and self-driving cars.\n"
     ]
    }
   ],
   "source": [
    "print(response.content)"
   ]
  },
  {
   "cell_type": "markdown",
   "id": "e333179b",
   "metadata": {},
   "source": [
    "### Chat models and prompts"
   ]
  },
  {
   "cell_type": "code",
   "execution_count": 27,
   "id": "ba33f342",
   "metadata": {},
   "outputs": [],
   "source": [
    "from langchain_core.prompts import ChatPromptTemplate\n",
    "\n",
    "\n",
    "template = ChatPromptTemplate.from_messages([\n",
    "    (\"system\", \"you are a English to French translator.\"),\n",
    "    (\"user\", \"Translate this to french: {text}\")\n",
    "])\n",
    "\n",
    "formatted_messages = template.format_messages(text=\"Hello, How are you?\")"
   ]
  },
  {
   "cell_type": "code",
   "execution_count": 28,
   "id": "055055fd",
   "metadata": {},
   "outputs": [],
   "source": [
    "response = llm.invoke(formatted_messages)"
   ]
  },
  {
   "cell_type": "code",
   "execution_count": 30,
   "id": "686fe8ad",
   "metadata": {},
   "outputs": [
    {
     "name": "stdout",
     "output_type": "stream",
     "text": [
      "La traduction de \"Hello, How are you?\" en français est :\n",
      "\n",
      "\"Bonjour, comment allez-vous ?\"\n"
     ]
    }
   ],
   "source": [
    "print(response.content)"
   ]
  },
  {
   "cell_type": "code",
   "execution_count": null,
   "id": "ca444cfe",
   "metadata": {},
   "outputs": [],
   "source": []
  }
 ],
 "metadata": {
  "kernelspec": {
   "display_name": ".venv",
   "language": "python",
   "name": "python3"
  },
  "language_info": {
   "codemirror_mode": {
    "name": "ipython",
    "version": 3
   },
   "file_extension": ".py",
   "mimetype": "text/x-python",
   "name": "python",
   "nbconvert_exporter": "python",
   "pygments_lexer": "ipython3",
   "version": "3.13.5"
  }
 },
 "nbformat": 4,
 "nbformat_minor": 5
}
